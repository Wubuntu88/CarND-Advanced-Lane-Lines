{
 "cells": [
  {
   "cell_type": "code",
   "execution_count": 2,
   "metadata": {
    "collapsed": true
   },
   "outputs": [],
   "source": [
    "# Import everything needed to edit/save/watch video clips\n",
    "from moviepy.editor import VideoFileClip\n",
    "from IPython.display import HTML\n",
    "import numpy as np\n",
    "import matplotlib.image as mpimg\n",
    "import matplotlib.pyplot as plt\n",
    "import cv2\n",
    "%matplotlib inline"
   ]
  },
  {
   "cell_type": "code",
   "execution_count": 3,
   "metadata": {
    "collapsed": true
   },
   "outputs": [],
   "source": [
    "import sys\n",
    "sys.path.insert(0,'../')"
   ]
  },
  {
   "cell_type": "code",
   "execution_count": 6,
   "metadata": {},
   "outputs": [],
   "source": [
    "import image_utils.image_thresholder as it\n",
    "import image_utils.region_masker as rm\n",
    "import image_utils.poly_fitter as pf\n",
    "import image_utils.line as line\n",
    "import pipeline.image_processor as ip"
   ]
  },
  {
   "cell_type": "code",
   "execution_count": null,
   "metadata": {},
   "outputs": [],
   "source": [
    "#np.dstack((it.combined_thresh(rgb_img=image), np.zeros_like(image), np.zeros_like(image)))*255"
   ]
  },
  {
   "cell_type": "code",
   "execution_count": null,
   "metadata": {
    "collapsed": true
   },
   "outputs": [],
   "source": [
    "#funk = it.combined_thresh\n",
    "#funk = lambda frame: np.dstack((it.combined_thresh(rgb_img=frame), np.zeros_like(frame), np.zeros_like(frame)*255))"
   ]
  },
  {
   "cell_type": "code",
   "execution_count": null,
   "metadata": {
    "collapsed": true
   },
   "outputs": [],
   "source": [
    "mtx = np.load('../camera_calibration/saved_data_to_calibrate_images/mtx.npy')\n",
    "dist = np.load('../camera_calibration/saved_data_to_calibrate_images/dist.npy')\n",
    "img_proc = ip.ImageProcessor(calibration_matrix=mtx, distortion_coefficients=dist)"
   ]
  },
  {
   "cell_type": "code",
   "execution_count": 7,
   "metadata": {},
   "outputs": [],
   "source": [
    "left_line = line.Line()\n",
    "right_line = line.Line()"
   ]
  },
  {
   "cell_type": "code",
   "execution_count": 8,
   "metadata": {},
   "outputs": [
    {
     "data": {
      "text/plain": [
       "<image_utils.line.Line at 0x112477a58>"
      ]
     },
     "execution_count": 8,
     "metadata": {},
     "output_type": "execute_result"
    }
   ],
   "source": [
    "left_line"
   ]
  },
  {
   "cell_type": "code",
   "execution_count": null,
   "metadata": {},
   "outputs": [],
   "source": [
    "def make_slr_binary_img(rgb_frame):\n",
    "    i1 = it.combined_thresh(rgb_img=rgb_frame)\n",
    "    i2 = np.zeros_like(i1)\n",
    "    i3 = np.zeros_like(i1)\n",
    "    return np.dstack((i1, i2, i3))*255\n",
    "def make_slr_reg_mask_binary_img(rgb_frame):\n",
    "    binary_img = it.combined_thresh(rgb_img=rgb_frame)\n",
    "    i1 = rm.make_region_of_interest(gray_image=binary_img)\n",
    "    i2 = np.zeros_like(i1)\n",
    "    i3 = np.zeros_like(i1)\n",
    "    return np.dstack((i1, i2, i3))*255\n",
    "def make_slr_rm_perspec_trans(rgb_frame):\n",
    "    i1 = img_proc.process_image(rgb_frame)\n",
    "    i2 = np.zeros_like(i1)\n",
    "    i3 = np.zeros_like(i1)\n",
    "    return np.dstack((i1, i2, i3))*255\n",
    "def make_simple_polyfit_pt(rgb_frame):\n",
    "    binary_img = img_proc.process_image(rgb_frame)\n",
    "    i1 = binary_img\n",
    "    i2 = np.zeros_like(i1)\n",
    "    i3 = np.zeros_like(i1)\n",
    "    rgb_ish_image = np.dstack((i1, i2, i3))*255\n",
    "    \n",
    "    left_poly, right_poly = pf.simple_polyfit(grayscale_image=binary_img)\n",
    "    if left_poly is not None and right_poly is not None:\n",
    "        ploty = np.linspace(0, binary_img.shape[0]-1, binary_img.shape[0] )\n",
    "        left_fitx = left_poly[0]*ploty**2 + left_poly[1]*ploty + left_poly[2]\n",
    "        right_fitx = right_poly[0]*ploty**2 + right_poly[1]*ploty + right_poly[2]\n",
    "        \n",
    "        \n",
    "        \n",
    "        ploty = np.int32(ploty)\n",
    "        left_fitx = np.int32(left_fitx)\n",
    "        right_fitx = np.int32(right_fitx)\n",
    "        for i in range(1, len(ploty)):\n",
    "            cv2.line(rgb_ish_image, (left_fitx[i-1], ploty[i-1]), (left_fitx[i], ploty[i]), color=(255,255,0), thickness=3)\n",
    "            cv2.line(rgb_ish_image, (right_fitx[i-1], ploty[i-1]), (right_fitx[i], ploty[i]), color=(255,255,0), thickness=3)\n",
    "    return rgb_ish_image"
   ]
  },
  {
   "cell_type": "code",
   "execution_count": null,
   "metadata": {},
   "outputs": [],
   "source": [
    "project_video_name = \"project_video.mp4\"\n",
    "save_file_name = '../output_videos/perspec_trans_outputs/simple_polyfit/' + project_video_name\n",
    "src_video_name = \"../test_videos/\" + project_video_name\n",
    "clip1 = VideoFileClip(src_video_name)\n",
    "srl_clip = clip1.fl_image(make_simple_polyfit_pt)\n",
    "%time srl_clip.write_videofile(save_file_name, audio=False)"
   ]
  },
  {
   "cell_type": "code",
   "execution_count": null,
   "metadata": {},
   "outputs": [],
   "source": [
    "HTML(\"\"\"\n",
    "<video width=\"960\" height=\"540\" controls>\n",
    "  <source src=\"{0}\">\n",
    "</video>\n",
    "\"\"\".format(save_file_name))"
   ]
  },
  {
   "cell_type": "code",
   "execution_count": null,
   "metadata": {
    "collapsed": true
   },
   "outputs": [],
   "source": []
  }
 ],
 "metadata": {
  "kernelspec": {
   "display_name": "Python [conda env:carnd-term1]",
   "language": "python",
   "name": "conda-env-carnd-term1-py"
  },
  "language_info": {
   "codemirror_mode": {
    "name": "ipython",
    "version": 3
   },
   "file_extension": ".py",
   "mimetype": "text/x-python",
   "name": "python",
   "nbconvert_exporter": "python",
   "pygments_lexer": "ipython3",
   "version": "3.5.2"
  }
 },
 "nbformat": 4,
 "nbformat_minor": 2
}
